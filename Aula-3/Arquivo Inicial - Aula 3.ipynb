{
 "cells": [
  {
   "cell_type": "markdown",
   "metadata": {},
   "source": [
    "# Automação Web e Busca de Informações com Python\n",
    "\n",
    "#### Desafio: \n",
    "\n",
    "Trabalhamos em uma importadora e o preço dos nossos produtos é vinculado a cotação de:\n",
    "- Dólar\n",
    "- Euro\n",
    "- Ouro\n",
    "\n",
    "Precisamos pegar na internet, de forma automática, a cotação desses 3 itens e saber quanto devemos cobrar pelos nossos produtos, considerando uma margem de contribuição que temos na nossa base de dados.\n",
    "\n",
    "Base de Dados: https://drive.google.com/drive/folders/1KmAdo593nD8J9QBaZxPOG1yxHZua4Rtv?usp=sharing\n",
    "\n",
    "Para isso, vamos criar uma automação web:\n",
    "\n",
    "- Usaremos o selenium\n",
    "- Importante: baixar o webdriver"
   ]
  },
  {
   "cell_type": "code",
   "execution_count": null,
   "metadata": {},
   "outputs": [],
   "source": [
    "# Passo 1 - Entrar na Internet\n",
    "from selenium import webdriver\n",
    "from selenium.webdriver.common.keys import Keys\n",
    "import time\n",
    "\n",
    "navegador = webdriver.Firefox()\n",
    "\n",
    "# Passo 2 - Pegar Cotação do dólar\n",
    "# - Entrar no google\n",
    "navegador.get(\"https://www.google.com/\")\n",
    "# - Pesquisar \"Cotação do dólar\"\n",
    "navegador.find_element_by_xpath('/html/body/div[1]/div[3]/form/div[1]/div[1]/div[1]/div/div[2]/input').send_keys(\"Cotação dólar\")\n",
    "navegador.find_element_by_xpath('/html/body/div[1]/div[3]/form/div[1]/div[1]/div[1]/div/div[2]/input').send_keys(Keys.ENTER)\n",
    "\n",
    "# - Pegar o Número que aparece no resultado do google\n",
    "time.sleep(2)\n",
    "cotacao_dolar = navegador.find_element_by_xpath('//*[@id=\"knowledge-currency__updatable-data-column\"]/div[1]/div[2]/span[1]').get_attribute(\"data-value\")\n",
    "print(cotacao_dolar)\n",
    "\n",
    "# Passo 3 - Pegar Cotação do euro\n",
    "navegador.get(\"https://www.google.com/\")\n",
    "# - Pesquisar \"Cotação do euro\"\n",
    "navegador.find_element_by_xpath('/html/body/div[1]/div[3]/form/div[1]/div[1]/div[1]/div/div[2]/input').send_keys(\"Cotação euro\")\n",
    "navegador.find_element_by_xpath('/html/body/div[1]/div[3]/form/div[1]/div[1]/div[1]/div/div[2]/input').send_keys(Keys.ENTER)\n",
    "\n",
    "# - Pegar o Número que aparece no resultado do google\n",
    "time.sleep(2)\n",
    "cotacao_euro = navegador.find_element_by_xpath(\n",
    "    '//*[@id=\"knowledge-currency__updatable-data-column\"]/div[1]/div[2]/span[1]').get_attribute(\"data-value\")\n",
    "print(cotacao_euro)\n",
    "\n",
    "\n",
    "# Passo 4 - Pegar a Cotação do ouro\n",
    "navegador.get(\"https://www.melhorcambio.com/ouro-hoje\")\n",
    "# - Pegar cotação\n",
    "cotacao_ouro = navegador.find_element_by_xpath(\n",
    "    '//*[@id=\"comercial\"]').get_attribute(\"value\")\n",
    "cotacao_ouro = cotacao_ouro.replace(',', '.')\n",
    "print(cotacao_ouro)\n",
    "\n",
    "navegador.quit()"
   ]
  },
  {
   "cell_type": "markdown",
   "metadata": {},
   "source": [
    "### Agora vamos atualiza a nossa base de preços com as novas cotações"
   ]
  },
  {
   "cell_type": "markdown",
   "metadata": {},
   "source": [
    "- Importando a base de dados"
   ]
  },
  {
   "cell_type": "code",
   "execution_count": null,
   "metadata": {
    "scrolled": true
   },
   "outputs": [],
   "source": [
    "# Passo 5 - Importar e atualizar a base de dados\n",
    "import pandas as pd\n",
    "\n",
    "tabela = pd.read_excel(\"Produtos.xlsx\")\n",
    "display(tabela)"
   ]
  },
  {
   "cell_type": "markdown",
   "metadata": {},
   "source": [
    "- Atualizando os preços e o cálculo do Preço Final"
   ]
  },
  {
   "cell_type": "code",
   "execution_count": null,
   "metadata": {},
   "outputs": [],
   "source": [
    "# Atualizar a cotação\n",
    "# Aonde a coluna \"Moeda\" = \"Dólar\"\n",
    "# tabela.loc[linha, coluna]\n",
    "tabela.loc[tabela['Moeda'] == \"Dólar\", 'Cotação'] = float(cotacao_dolar)\n",
    "tabela.loc[tabela['Moeda'] == \"Euro\", 'Cotação'] = float(cotacao_euro)\n",
    "tabela.loc[tabela['Moeda'] == \"Ouro\", 'Cotação'] = float(cotacao_ouro)\n",
    "\n",
    "# Atualizar o Preço de Compra -> Preço Original * Cotação\n",
    "tabela[\"Preço Base Reais\"] = tabela[\"Preço Base Original\"] * tabela[\"Cotação\"]\n",
    "\n",
    "# Atualizar o Preço de venda -> Preço de compra * Margem\n",
    "tabela[\"Preço Final\"] = tabela[\"Preço Base Reais\"] * tabela[\"Margem\"]\n",
    "\n",
    "tabela[\"Preço Final\"] = tabela[\"Preço Final\"].map(\"{:.2f}\".format)\n",
    "\n",
    "display(tabela)"
   ]
  },
  {
   "cell_type": "markdown",
   "metadata": {},
   "source": [
    "### Agora vamos exportar a nova base de preços atualizada"
   ]
  },
  {
   "cell_type": "code",
   "execution_count": null,
   "metadata": {},
   "outputs": [],
   "source": [
    "# Passo 6 - Exportar a base de dados atualizada\n",
    "tabela.to_excel(\"Produtos Novo.xlsx\", index=False)"
   ]
  }
 ],
 "metadata": {
  "kernelspec": {
   "display_name": "Python 3",
   "language": "python",
   "name": "python3"
  },
  "language_info": {
   "codemirror_mode": {
    "name": "ipython",
    "version": 3
   },
   "file_extension": ".py",
   "mimetype": "text/x-python",
   "name": "python",
   "nbconvert_exporter": "python",
   "pygments_lexer": "ipython3",
   "version": "3.8.8"
  }
 },
 "nbformat": 4,
 "nbformat_minor": 4
}
